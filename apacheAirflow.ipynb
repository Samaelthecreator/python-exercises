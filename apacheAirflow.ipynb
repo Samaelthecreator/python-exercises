{
 "cells": [
  {
   "cell_type": "markdown",
   "metadata": {},
   "source": [
    "# Apache Airflow"
   ]
  },
  {
   "cell_type": "markdown",
   "metadata": {},
   "source": [
    "Requerimos de instalar las librerias de apache Airflow;\n",
    "\n",
    "- **pip install apache-airflow**\n"
   ]
  },
  {
   "cell_type": "markdown",
   "metadata": {},
   "source": [
    "Luego de instalarse exitosamente la libreria, tenemos que inicializar la base de datos de Airflow y arrancar el servidor web; en el servidor web se manejará un interfaz de usuario donde podemos visualizar y administrar las tareas y procesos dentro de Airflow.\n",
    "\n",
    "bash;\n",
    "\n",
    "    - airflow db init\n",
    "    - airflow webserver --port 8080\n",
    "    - airflow scheduler\n"
   ]
  },
  {
   "cell_type": "markdown",
   "metadata": {},
   "source": [
    "# DAG\n",
    "\n",
    "Un DAG (Directed Acyclic Graph) o por su nombre en español; Grafo aciclico no dirigido, es una estructura de administración de tareas o acciones, en la cual se almacenan los procesos/tareas que se requieren de realizar y en que orden deberian de ejecutarse.\n",
    "\n",
    "El DAG se centra especialmente en la ejecución de las tareas sin hacer incapie necesariamente en las tareas en si. La forma de declarar un DAG sigue la siguiente sintáxis;\n"
   ]
  },
  {
   "cell_type": "code",
   "execution_count": null,
   "metadata": {},
   "outputs": [],
   "source": [
    "#Importamos las librerias necesarias para trabajar con los DAGS\n",
    "from airflow import DAG\n",
    "from airflow.operators.empty import EmptyOperator\n",
    "\n",
    "#Importamos lobrerias de tiempo para determinar los tiempos en los que se ejecutarán las tareas\n",
    "import datetime\n"
   ]
  },
  {
   "cell_type": "markdown",
   "metadata": {},
   "source": [
    "# Operadores\n",
    "\n",
    "Un operador es un tipo de plantilla para una *tarea predeterminada* (clase en python). Contiene el proceso lógico de ejecución de las tareas, cada tarea dentro de un dag es definido mediante la instanciación de un operador. este operador se puede definir dentro del DAG o ya sea una fracción de código independiente.\n",
    "*Apache Airflow* ya tiene un conjunto basto de operadores (plantillas) definidos y disponibles.\n",
    "Ejemplos;\n",
    "\n",
    "\n",
    "- BashOperator : Ejecuta comandos de bash.\n",
    "- PythonOperator : Manda llamar una función de python arbitraria.\n",
    "- EmailOperator - Manda Emails\n",
    "\n",
    "otros ejemplos de operadores;\n",
    "\n",
    "- HttpOperator\n",
    "- MySqlOperator\n",
    "- OracleOperator\n",
    "- JdbcOperator\n",
    "- DockerOperator\n",
    "- HiveOperator\n",
    "-S3FileTransformOperator\n",
    "- PrestoToMySqlOperator\n",
    "- SlackAPIOperator"
   ]
  },
  {
   "cell_type": "markdown",
   "metadata": {},
   "source": [
    "El orden de construcción generalmente es;\n",
    "\n",
    "1- Definición del DAG.\n",
    "\n",
    "2- Definición de los task o tareas.\n",
    "\n",
    "3.- definir las relaciones entre tareas.\n"
   ]
  },
  {
   "cell_type": "code",
   "execution_count": null,
   "metadata": {},
   "outputs": [],
   "source": [
    "#Definición del DAG\n",
    "\n",
    "dag = DAG(\n",
    "    dag_id = 'nombre_DAG',\n",
    "    schedule = 'alarma_de_ejecución'\n",
    "    catchup = False #Si el DAG deberia ejecutar las fechas pasadas que no se ejecutaron\n",
    "    max_active runs = 1, #Limita el número de ejecuciones activas para un DAG\n",
    "    \n",
    "    #...\n",
    ")\n",
    "\n",
    "#Definición de Task\n",
    "nombre_task1 = (\n",
    "        task_id = 'nombre_tarea',\n",
    "        operator_params = 'Variable_parametros_del_operador',\n",
    "        dag = dag\n",
    "        #...\n",
    ")\n",
    "nombre_task2 = (\n",
    "        task_id = 'nombre_tarea',\n",
    "        operator_params = 'Variable_parametros_del_operador',\n",
    "        dag = dag\n",
    "        #...\n",
    ")\n",
    "nombre_task3 = (\n",
    "        task_id = 'nombre_tarea',\n",
    "        operator_params = 'Variable_parametros_del_operador',\n",
    "        dag = dag\n",
    "        #...\n",
    ")\n",
    "#...\n",
    "\n",
    "#Definir las relaciones entre las tareas.\n",
    "\n",
    "nombre_task1 << nombre_task2 \n",
    "nombre_task2 << nombre_task3\n",
    "# Task1 -> Task2 -> Task3"
   ]
  },
  {
   "cell_type": "markdown",
   "metadata": {},
   "source": [
    "Otros componentes:\n",
    "\n",
    "1.- default_args : Los argumentos por default son configuraciones generales o valores predeterminados para las tareas dentro de un DAG. Evitan la repeticón de configuraciones comunes en cada tarea individual.\n",
    "Sus configuraciones más comunes son:\n",
    "- 'owner' : El propietario del DAG\n",
    "- retries : Numero de veces que se reintentará una tarea fallida.\n",
    "- 'depends_on_past : Indica si las tareas requieren de la finalización exitosa de una tarea anterior o previa.\n",
    "- email : lista de correos electrónicos que recibirán notificaciones.\n",
    "- email_on_failure: Sí se renvian correos electrónicos cuando la tarea es reintentada.\n",
    "- retry_delay : Tiempo que se debe de esperar antes de reintentar la tarea\n",
    "- start_date : Fecha de inicio del DAG.\n",
    "- end_date : Fecha de finalización del DAG.\n",
    "- execution_timeout : Tiempo máximo permitido para que se eejcute una tarea antes de marcarse como fállida.\n",
    "- retry_exponential_backoff : Hábilita la espera exponencial entre reintentos.\n",
    "\n",
    "2.- configuraciones especificas del operador;\n",
    "A partir del tipo de operador (BashOperator,PythonOperator, etc..) existiran configuraciones extras.\n",
    "\n",
    "3.- Sensores;\n",
    "Los sensores son tareas que esperan una condición especifica antes de continuar con el flujo de trabajo. Un ejemplo es *FileSensor*, espera a que aparezca un archivo en una ubicación especifica.\n",
    "\n",
    "4.-     Hooks y Conexiones:\n",
    "\n",
    "    - Hooks: Se utilizan para contectarse a servicios externos como base de datos, APIs, etc.\n",
    "    - Conexiones: Se confugran en la UI de Airflow y se refieren en los DAGs para interactuar con otros servicios externos.\n",
    "\n",
    "7.- Variables y XComs:\n",
    "\n",
    "    - Variables: Configuraciones globales que se pueden cambiar sin modificar el código del DAG.\n",
    "    - XComs : Permiten el intercambio de datos entre tareas e tiempo de ejecución."
   ]
  },
  {
   "cell_type": "markdown",
   "metadata": {},
   "source": [
    "Ejemplos:"
   ]
  },
  {
   "cell_type": "code",
   "execution_count": null,
   "metadata": {},
   "outputs": [],
   "source": [
    "#librerias de tiempo\n",
    "from datetime import datetime,timedelta\n",
    "\n",
    "\n",
    "#Caracteristicas del proceso.\n",
    "\n",
    "from airflow import DAG\n",
    "from airflow.operators.python_operator import PythonOperator\n",
    "from datetime import timedelta, days_ago\n",
    "\n",
    "\n",
    "#Caracateristicas del dag\n",
    "default_args = {\n",
    "    'owner': 'airflow',\n",
    "    'depends_on_past': False,\n",
    "    'email_on_failure': False,\n",
    "    'email_on_retry': False,\n",
    "    'retries': 1,\n",
    "    'retry_delay': timedelta(minutes=5),\n",
    "    'start_date': days_ago(1),\n",
    "}\n",
    "\n",
    "#Configuraciones del DAG\n",
    "dag = DAG(\n",
    "    'my_etl_dag',\n",
    "    default_args=default_args,\n",
    "    description='A simple ETL DAG',\n",
    "    schedule_interval=timedelta(days=1),\n",
    ")\n",
    "\n",
    "\n",
    "#Funciones de python que definirán las acciones de las tareas\n",
    "def extract(**kwargs):\n",
    "    # Lógica de extracción\n",
    "    pass\n",
    "\n",
    "def transform(**kwargs):\n",
    "    # Lógica de transformación\n",
    "    pass\n",
    "\n",
    "def load(**kwargs):\n",
    "    # Lógica de carga\n",
    "    pass\n",
    "\n",
    "#Definición de las tareas.\n",
    "\n",
    "extract_task = PythonOperator(\n",
    "    task_id='extract',\n",
    "    python_callable=extract,\n",
    "    dag=dag,\n",
    ")\n",
    "\n",
    "transform_task = PythonOperator(\n",
    "    task_id='transform',\n",
    "    python_callable=transform,\n",
    "    dag=dag,\n",
    ")\n",
    "\n",
    "load_task = PythonOperator(\n",
    "    task_id='load',\n",
    "    python_callable=load,\n",
    "    dag=dag,\n",
    ")\n",
    "\n",
    "#Definición del orden de tareas.\n",
    "extract_task >> transform_task >> load_task\n"
   ]
  },
  {
   "cell_type": "markdown",
   "metadata": {},
   "source": [
    "Bibliografias:\n",
    "\n",
    "- https://airflow.apache.org/docs/apache-airflow/stable/core-concepts/dags.html\n",
    "- https://airflow.apache.org/docs/apache-airflow/stable/core-concepts/operators.html\n",
    "- https://airflow.apache.org/docs/apache-airflow/1.10.10/tutorial.html\n",
    "- https://www.astronomer.io/docs/learn/dags\n",
    "- https://docs.aws.amazon.com/es_es/mwaa/latest/userguide/configuring-dag-folder.html\n"
   ]
  },
  {
   "cell_type": "markdown",
   "metadata": {},
   "source": []
  }
 ],
 "metadata": {
  "kernelspec": {
   "display_name": "Python 3",
   "language": "python",
   "name": "python3"
  },
  "language_info": {
   "codemirror_mode": {
    "name": "ipython",
    "version": 3
   },
   "file_extension": ".py",
   "mimetype": "text/x-python",
   "name": "python",
   "nbconvert_exporter": "python",
   "pygments_lexer": "ipython3",
   "version": "3.11.9"
  }
 },
 "nbformat": 4,
 "nbformat_minor": 2
}
