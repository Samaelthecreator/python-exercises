{
  "nbformat": 4,
  "nbformat_minor": 0,
  "metadata": {
    "colab": {
      "provenance": []
    },
    "kernelspec": {
      "name": "python3",
      "display_name": "Python 3"
    },
    "language_info": {
      "name": "python"
    }
  },
  "cells": [
    {
      "cell_type": "markdown",
      "source": [
        "# Tuplas\n",
        "\n",
        "Las tuplas son objetos de longitud constante compuesto por elementos inmutables. Los elementos de las tuplas pueden ser casi cualquier otro objeto de Python (listas,tuplas,etc)."
      ],
      "metadata": {
        "id": "uvxuIkXTutGc"
      }
    },
    {
      "cell_type": "markdown",
      "source": [
        "Definición"
      ],
      "metadata": {
        "id": "_J1HwRW65adz"
      }
    },
    {
      "cell_type": "code",
      "source": [
        "#DEFINICION\n",
        "\n",
        "#forma 1:\n",
        "tupla1 = 32,'Hola esto es una tupla', 1123.123\n",
        "\n",
        "#forma 2:\n",
        "tupla2 = ('esto también es una tupla', 1123,123.123)\n",
        "\n",
        "#A partir de un objeto diferente, se define una tupla con la función tuple()\n",
        "\n",
        "lista = [2,3,4,5]\n",
        "tupla3 = tuple(lista)\n",
        "\n",
        "#Puedes convertir cualquier secuencia o iterador en una tupla;\n",
        "\n",
        "st = 'Cadena de caracteres'\n",
        "tupla4 = tuple(st)\n",
        "\n",
        "print(f\"Las tuplas definidas son las siguientes: {tupla1}, {tupla2}, {tupla3} y {tupla4}\")"
      ],
      "metadata": {
        "colab": {
          "base_uri": "https://localhost:8080/"
        },
        "id": "g9DhkXfgusqh",
        "outputId": "17d3a537-15a6-4d3d-ae7a-8dc8c9c4648e"
      },
      "execution_count": 3,
      "outputs": [
        {
          "output_type": "stream",
          "name": "stdout",
          "text": [
            "Las tuplas definidas son las siguientes: (32, 'Hola esto es una tupla', 1123.123), ('esto también es una tupla', 1123, 123.123), (2, 3, 4, 5) y ('C', 'a', 'd', 'e', 'n', 'a', ' ', 'd', 'e', ' ', 'c', 'a', 'r', 'a', 'c', 't', 'e', 'r', 'e', 's')\n"
          ]
        }
      ]
    },
    {
      "cell_type": "markdown",
      "source": [
        "Accesamiento"
      ],
      "metadata": {
        "id": "nF_tKNZN5pY6"
      }
    },
    {
      "cell_type": "code",
      "source": [
        "#Se puede acceder a través de la notación bra-ket []\n",
        "#Las tuplas son 0-indexed, es decir, El conteo de elementos\n",
        "#comienzan desde 0.\n",
        "\n",
        "\n",
        "print(f'El elemento 2  de la tupla1 es: {tupla1[1]}')\n",
        "\n",
        "print(f'El elemento 10 de la última tupla es: {tupla4[10]}')"
      ],
      "metadata": {
        "colab": {
          "base_uri": "https://localhost:8080/"
        },
        "id": "_RnPi4r60aVU",
        "outputId": "2beec653-dd55-4301-b1ce-a13cc3f49191"
      },
      "execution_count": 4,
      "outputs": [
        {
          "output_type": "stream",
          "name": "stdout",
          "text": [
            "El elemento 2  de la tupla1 es: Hola esto es una tupla\n",
            "El elemento 10 de la última tupla es: c\n"
          ]
        }
      ]
    },
    {
      "cell_type": "markdown",
      "source": [
        "Las tuplas también aceptan El slicing, es decir la notación ' : ' para definir un rango de elementos dentro del objeto, donde los enteros pueden ser positivos o negativos (se cuentan del final al inicio)"
      ],
      "metadata": {
        "id": "teP-1003O6km"
      }
    },
    {
      "cell_type": "code",
      "source": [
        "#Slicing\n",
        "\n",
        "print(f\"slicing: {tupla1[0:2]}\")\n",
        "\n",
        "#intervalo definiendo el número de pasos para cada elemento.\n",
        "\n",
        "print(f\"con intervalo de pasos: {tupla1[0:2:1]}\")\n",
        "\n",
        "#Intervalo definido con valores negativos:\n",
        "\n",
        "print(f\"intervalo negativo: {tupla1[-3:-1]}\")"
      ],
      "metadata": {
        "colab": {
          "base_uri": "https://localhost:8080/"
        },
        "id": "YvO-oQotPPCG",
        "outputId": "8115d24f-ccd7-4287-8ddc-776de6f56d01"
      },
      "execution_count": 5,
      "outputs": [
        {
          "output_type": "stream",
          "name": "stdout",
          "text": [
            "slicing: (32, 'Hola esto es una tupla')\n",
            "con intervalo de pasos: (32, 'Hola esto es una tupla')\n",
            "intervalo negativo: (32, 'Hola esto es una tupla')\n"
          ]
        }
      ]
    },
    {
      "cell_type": "markdown",
      "source": [
        "Inmutabilidad: Los elementos de las tuplas son inmutables, es decir, en el momento en que se definen sus elementos, estos ya no pueden ser redefindos."
      ],
      "metadata": {
        "id": "nEEdponu7VHJ"
      }
    },
    {
      "cell_type": "code",
      "source": [
        "tupla1[2] = 23"
      ],
      "metadata": {
        "colab": {
          "base_uri": "https://localhost:8080/",
          "height": 147
        },
        "id": "JL5vb5yv5y28",
        "outputId": "b209bd63-6dca-4808-99c0-b309c4254f65"
      },
      "execution_count": 6,
      "outputs": [
        {
          "output_type": "error",
          "ename": "TypeError",
          "evalue": "'tuple' object does not support item assignment",
          "traceback": [
            "\u001b[0;31m---------------------------------------------------------------------------\u001b[0m",
            "\u001b[0;31mTypeError\u001b[0m                                 Traceback (most recent call last)",
            "\u001b[0;32m<ipython-input-6-95951b21852c>\u001b[0m in \u001b[0;36m<cell line: 1>\u001b[0;34m()\u001b[0m\n\u001b[0;32m----> 1\u001b[0;31m \u001b[0mtupla1\u001b[0m\u001b[0;34m[\u001b[0m\u001b[0;36m2\u001b[0m\u001b[0;34m]\u001b[0m \u001b[0;34m=\u001b[0m \u001b[0;36m23\u001b[0m\u001b[0;34m\u001b[0m\u001b[0;34m\u001b[0m\u001b[0m\n\u001b[0m",
            "\u001b[0;31mTypeError\u001b[0m: 'tuple' object does not support item assignment"
          ]
        }
      ]
    },
    {
      "cell_type": "markdown",
      "source": [
        "Desempacamiento.\n",
        "El desempacamiento es el hecho de, a partir de una tupla, tomar sus elementos internos y definir los como variables independientes."
      ],
      "metadata": {
        "id": "8NhT84Vw771H"
      }
    },
    {
      "cell_type": "code",
      "source": [
        "#Aquí, cada variable se asigna con El elemento que corresponda de la tupla en orden 0-n, siendo n\n",
        "#la longitud de la lista.\n",
        "entero,cadena,flotante = tupla1\n",
        "\n",
        "print(f'el valor de la primera variable es: {entero}, de la segunda variable es: {cadena} , y de la tercera variable es: {flotante}')"
      ],
      "metadata": {
        "colab": {
          "base_uri": "https://localhost:8080/"
        },
        "id": "2T0KbN1T7q4S",
        "outputId": "1a670eed-9ab2-4c5f-e890-1a27fa592437"
      },
      "execution_count": 7,
      "outputs": [
        {
          "output_type": "stream",
          "name": "stdout",
          "text": [
            "el valor de la primera variable es: 32, de la segunda variable es: Hola esto es una tupla , y de la tercera variable es: 1123.123\n"
          ]
        }
      ]
    },
    {
      "cell_type": "markdown",
      "source": [
        "Concatenación.\n",
        "\n",
        "La concatenación es la Unión de dos elementos de un objeto de python, en el caso de las tuplas, podemos crear una tupla a partir de la concatenación de tuplas anteriores.\n",
        "\n",
        "También se puede realizar la multiplicación de una tupla por un escalar(Los elementos)"
      ],
      "metadata": {
        "id": "OAxCs73y9LqX"
      }
    },
    {
      "cell_type": "code",
      "source": [
        "tupla_concatenada = tupla1 + tupla2\n",
        "\n",
        "tupla_concatenada"
      ],
      "metadata": {
        "colab": {
          "base_uri": "https://localhost:8080/"
        },
        "id": "fdHYPavT9DN1",
        "outputId": "aecc8be3-737a-4230-bdea-4d3da53ee939"
      },
      "execution_count": 8,
      "outputs": [
        {
          "output_type": "execute_result",
          "data": {
            "text/plain": [
              "(32,\n",
              " 'Hola esto es una tupla',\n",
              " 1123.123,\n",
              " 'esto también es una tupla',\n",
              " 1123,\n",
              " 123.123)"
            ]
          },
          "metadata": {},
          "execution_count": 8
        }
      ]
    },
    {
      "cell_type": "code",
      "source": [
        "tupla_multiplicacion = tupla1*10\n",
        "\n",
        "tupla_multiplicacion"
      ],
      "metadata": {
        "colab": {
          "base_uri": "https://localhost:8080/"
        },
        "id": "bfnq3sZn9ufG",
        "outputId": "0e55687d-1cb9-46f4-f6e4-a31c65991950"
      },
      "execution_count": 9,
      "outputs": [
        {
          "output_type": "execute_result",
          "data": {
            "text/plain": [
              "(32,\n",
              " 'Hola esto es una tupla',\n",
              " 1123.123,\n",
              " 32,\n",
              " 'Hola esto es una tupla',\n",
              " 1123.123,\n",
              " 32,\n",
              " 'Hola esto es una tupla',\n",
              " 1123.123,\n",
              " 32,\n",
              " 'Hola esto es una tupla',\n",
              " 1123.123,\n",
              " 32,\n",
              " 'Hola esto es una tupla',\n",
              " 1123.123,\n",
              " 32,\n",
              " 'Hola esto es una tupla',\n",
              " 1123.123,\n",
              " 32,\n",
              " 'Hola esto es una tupla',\n",
              " 1123.123,\n",
              " 32,\n",
              " 'Hola esto es una tupla',\n",
              " 1123.123,\n",
              " 32,\n",
              " 'Hola esto es una tupla',\n",
              " 1123.123,\n",
              " 32,\n",
              " 'Hola esto es una tupla',\n",
              " 1123.123)"
            ]
          },
          "metadata": {},
          "execution_count": 9
        }
      ]
    },
    {
      "cell_type": "markdown",
      "source": [
        "Como las tuplas son inmutables, El multiplicar la tupla por un escalar réplica la tupla tantas veces ese escalar sin modificar sus elementos en si"
      ],
      "metadata": {
        "id": "3YFJhKohAbzC"
      }
    },
    {
      "cell_type": "markdown",
      "source": [
        "# Métodos"
      ],
      "metadata": {
        "id": "eAzaZsQ-BRHZ"
      }
    },
    {
      "cell_type": "markdown",
      "source": [
        "Debido a que las tuplas son inmutables, no existen muchos métodos que puedan utilizarse para las tuplas, la mayoría se centrará en las siguientes acciones:\n",
        "\n",
        "- Dimensión del objeto.\n",
        "\n",
        "- Encontrar elementos dentro del objeto.\n",
        "\n",
        "- manejo de índices (identificadores de elementos).\n",
        "\n",
        "- valores máximos y mínimos.\n",
        "\n",
        "\n",
        "Entre otras cosas."
      ],
      "metadata": {
        "id": "K43OkSVjBUBq"
      }
    },
    {
      "cell_type": "code",
      "source": [
        "# . count('Objeto') ; Cuenta cuantas veces se repite el objeto dentro de la tupla\n",
        "\n",
        "tupla_multiplicacion.count(32)\n"
      ],
      "metadata": {
        "colab": {
          "base_uri": "https://localhost:8080/"
        },
        "id": "W3XWWcsJ-S2J",
        "outputId": "24576383-7086-4a3c-c6be-d5efb22d1d09"
      },
      "execution_count": 10,
      "outputs": [
        {
          "output_type": "execute_result",
          "data": {
            "text/plain": [
              "10"
            ]
          },
          "metadata": {},
          "execution_count": 10
        }
      ]
    },
    {
      "cell_type": "code",
      "source": [
        "# .index(<obj>[,index]) ; Busca el objeto que se le pasa como parámetro y\n",
        "#devuelve el índice en El que se ha enontrado.\n",
        "#NOTA: Si la función no encuentra el elemento, esta arrojara un ValueError.\n",
        "\n",
        "print(f'el índice del elemento Hola, esto es una tupla es : {tupla1.index(\"Hola esto es una tupla\")}')\n",
        "\n",
        "print(f'EL elemento 32 fue encontrado en el indice {tupla1.index(32)}')\n",
        "\n",
        "\n",
        "#Este método acepta un Segundo parametro, este indica a partir de que índice comienza a buscar:\n",
        "\n",
        "tupla_multiplicacion.index(32,4)\n",
        "\n",
        "\n",
        "\n",
        "#Las funciones de encontrar los elementos mayores y menores son; min() y max()\n",
        "tupla_max_min = 1,2,3,4,5,6\n",
        "valor_maximo = max(tupla_max_min)\n",
        "valor_minimo = min(tupla_max_min)\n",
        "\n",
        "print(f'El valor máximo es: {valor_maximo} y el valor mínimo es: {valor_minimo}')"
      ],
      "metadata": {
        "colab": {
          "base_uri": "https://localhost:8080/"
        },
        "id": "A6DDt2G8DBYl",
        "outputId": "81219563-11ff-46fd-929a-a8665343db65"
      },
      "execution_count": 22,
      "outputs": [
        {
          "output_type": "stream",
          "name": "stdout",
          "text": [
            "el índice del elemento Hola, esto es una tupla es : 1\n",
            "EL elemento 32 fue encontrado en el indice 0\n",
            "El valor máximo es: 6 y el valor mínimo es: 1\n"
          ]
        }
      ]
    },
    {
      "cell_type": "markdown",
      "source": [
        "Las ventajas de usar tuplas en ves de otro tipo de objetos es su espacio en memoria, aproximadamente las tuplas trabajaban con aproximadamente 80 Mb"
      ],
      "metadata": {
        "id": "DeatxmElMFfX"
      }
    },
    {
      "cell_type": "markdown",
      "source": [
        "# Ejercicios"
      ],
      "metadata": {
        "id": "505U8hxdMc_y"
      }
    },
    {
      "cell_type": "markdown",
      "source": [
        "1.- A partir de la definición de dos tuplas con dos elementos, dame una tupla donde los componentes pares sean los componentes de la primera tupla y los impares sean los componentes de la segunda tupla"
      ],
      "metadata": {
        "id": "LkJ6BlXA9z1v"
      }
    },
    {
      "cell_type": "code",
      "source": [
        "#Definiremos las dos tupla\n",
        "t1 = 'primer elemento', 'segundo elemento'\n",
        "t2 = 3,4\n",
        "\n",
        "#definimos la tupla resultante, contaremos a partir de 1\n",
        "\n",
        "resultado = t2[0],t1[0],t2[1],t1[1]\n",
        "\n",
        "print(resultado)\n"
      ],
      "metadata": {
        "id": "nmkdkX6TE40Z",
        "colab": {
          "base_uri": "https://localhost:8080/"
        },
        "outputId": "c4bbd83f-da8f-4837-e1fe-d8a03509da94"
      },
      "execution_count": 12,
      "outputs": [
        {
          "output_type": "stream",
          "name": "stdout",
          "text": [
            "(3, 'primer elemento', 4, 'segundo elemento')\n"
          ]
        }
      ]
    },
    {
      "cell_type": "markdown",
      "source": [
        "2.- Creame una tupla anidada de 4 componentes, cada componente con 2 componentes.\n",
        "Accedeme al primer elemento del componente 3 de la tupla."
      ],
      "metadata": {
        "id": "6bp_5sM5SYKc"
      }
    },
    {
      "cell_type": "code",
      "source": [
        "#Definimos una la tupla anidada\n",
        "\n",
        "anidada = (1,2),('hola','todos'),(1,'hello'),(256,'world')\n",
        "\n",
        "#Recordemos que los componentes de las tuplas empiezan a contarse a partir de 0, por lo que acceder al componente 3 seria la \"posición\" 2.\n",
        "\n",
        "anidada[2][0]"
      ],
      "metadata": {
        "id": "aWIvI7j6H7ef",
        "colab": {
          "base_uri": "https://localhost:8080/"
        },
        "outputId": "3050a148-b9da-4e3e-8106-108f95d57c84"
      },
      "execution_count": 17,
      "outputs": [
        {
          "output_type": "execute_result",
          "data": {
            "text/plain": [
              "1"
            ]
          },
          "metadata": {},
          "execution_count": 17
        }
      ]
    },
    {
      "cell_type": "markdown",
      "source": [
        "3.- Dadas dos tuplas, realiza su concatenación y la multiplicación de una tupla por un número."
      ],
      "metadata": {
        "id": "F93K3eP_Ulva"
      }
    },
    {
      "cell_type": "code",
      "source": [
        "#Tomaremos las dos tuplas del ejercicio 1\n",
        "\n",
        "  #Concatenamos y realizamos la multiplicación por un numero.\n",
        "\n",
        "concatenacion = t1+t2*3\n",
        "\n",
        "concatenacion"
      ],
      "metadata": {
        "colab": {
          "base_uri": "https://localhost:8080/"
        },
        "id": "r5zeXL0yTjIt",
        "outputId": "6f4388dd-145d-4898-f376-db583cfb0052"
      },
      "execution_count": 19,
      "outputs": [
        {
          "output_type": "execute_result",
          "data": {
            "text/plain": [
              "('primer elemento', 'segundo elemento', 3, 4, 3, 4, 3, 4)"
            ]
          },
          "metadata": {},
          "execution_count": 19
        }
      ]
    },
    {
      "cell_type": "markdown",
      "source": [
        "4.- Dada una tupla de números, encuentra el valor máximo y el mínimo."
      ],
      "metadata": {
        "id": "GeAnHTQxVjoX"
      }
    },
    {
      "cell_type": "code",
      "source": [
        "#Definimos la tupla de numeros\n",
        "\n",
        "numeros = (213,4235,1234,123,4253,346,124,13524,42,12,15432,64,124,124)\n",
        "\n",
        "#encontramos el valor máximo y mínimo de las tuplas\n",
        "  #tenemos las funciones max() y min() aplicables a las tuplas\n",
        "\n",
        "vmax = max(numeros)\n",
        "\n",
        "vmin = min(numeros)\n",
        "\n",
        "print(f\"el valor minimo es: {vmin} y el valor máximo es: {vmax}\")"
      ],
      "metadata": {
        "colab": {
          "base_uri": "https://localhost:8080/"
        },
        "id": "YxwrHWlSUntV",
        "outputId": "29e5b28f-240f-47a1-8e15-82c4f8f88833"
      },
      "execution_count": 20,
      "outputs": [
        {
          "output_type": "stream",
          "name": "stdout",
          "text": [
            "el valor minimo es: 12 y el valor máximo es: 15432\n"
          ]
        }
      ]
    },
    {
      "cell_type": "markdown",
      "source": [
        "5.- Dada una tupla de elementos, crea una tupla donde sus elementos sean el numero de apariciones de elementos de la tupla de referencia."
      ],
      "metadata": {
        "id": "N5EySJ5vYmzp"
      }
    },
    {
      "cell_type": "code",
      "source": [
        "tupla_conteos = (1,2,3,4,2,1,3,4,5,7,8,9,7,6,5,7,4,3,5,6,7,8,9,6,7,5,6,4,3,2,1)\n",
        "\n",
        "#Tenemos el metodo .count() que determina el numero de veces que se repite el numero del argumento.\n",
        "  #Creamos una tupla donde los elementos sean el numero de veces que aparecen los elementos de la tupla conteos relacionados por el indice de ambas tuplas\n",
        "\n",
        "conteos = tuple((x,tupla_conteos.count(x)) for x in tupla_conteos)\n",
        "\n",
        "conteos"
      ],
      "metadata": {
        "colab": {
          "base_uri": "https://localhost:8080/"
        },
        "id": "CwH4jZuOXY9q",
        "outputId": "7c09a872-d776-48c9-c6ae-914ecbc1253d"
      },
      "execution_count": 38,
      "outputs": [
        {
          "output_type": "execute_result",
          "data": {
            "text/plain": [
              "((1, 3),\n",
              " (2, 3),\n",
              " (3, 4),\n",
              " (4, 4),\n",
              " (2, 3),\n",
              " (1, 3),\n",
              " (3, 4),\n",
              " (4, 4),\n",
              " (5, 4),\n",
              " (7, 5),\n",
              " (8, 2),\n",
              " (9, 2),\n",
              " (7, 5),\n",
              " (6, 4),\n",
              " (5, 4),\n",
              " (7, 5),\n",
              " (4, 4),\n",
              " (3, 4),\n",
              " (5, 4),\n",
              " (6, 4),\n",
              " (7, 5),\n",
              " (8, 2),\n",
              " (9, 2),\n",
              " (6, 4),\n",
              " (7, 5),\n",
              " (5, 4),\n",
              " (6, 4),\n",
              " (4, 4),\n",
              " (3, 4),\n",
              " (2, 3),\n",
              " (1, 3))"
            ]
          },
          "metadata": {},
          "execution_count": 38
        }
      ]
    }
  ]
}